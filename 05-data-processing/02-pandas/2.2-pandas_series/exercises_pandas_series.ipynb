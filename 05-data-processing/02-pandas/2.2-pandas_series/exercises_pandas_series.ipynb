{
 "cells": [
  {
   "cell_type": "markdown",
   "metadata": {},
   "source": [
    "# Exercises pandas Series"
   ]
  },
  {
   "cell_type": "code",
   "execution_count": 7,
   "metadata": {},
   "outputs": [],
   "source": [
    "#Import the necessary packages\n",
    "import pandas as pd;"
   ]
  },
  {
   "cell_type": "markdown",
   "metadata": {},
   "source": [
    "## 1. Train delay\n",
    "### Part 1"
   ]
  },
  {
   "cell_type": "markdown",
   "metadata": {},
   "source": [
    "`delay_data` is a dictionary containing the average delay (in minutes) the trains of a certain station have. \n",
    "* Create a Series `train_delay` using this dictionary"
   ]
  },
  {
   "cell_type": "code",
   "execution_count": 11,
   "metadata": {},
   "outputs": [],
   "source": [
    "delay_data = {\"Brussel\": 6.34, \"Antwerpen\": 5.45, \"Brugge\": 4.12, \"Gent\": 2.45, \"Hasselt\": 6.08}\n",
    "\n",
    "# Your code\n",
    "train_delay = pd.Series(delay_data)"
   ]
  },
  {
   "cell_type": "markdown",
   "metadata": {},
   "source": [
    "Some cities have several stations, which is not specified in the dictionary. Change the index of Brussel, Antwerpen and Gent, to Brussel-Centraal, Antwerpen-Centraal and Gent-Sint-Pieters respectively."
   ]
  },
  {
   "cell_type": "code",
   "execution_count": 16,
   "metadata": {},
   "outputs": [],
   "source": [
    "# Your code\n",
    "train_delay = train_delay.rename(index={\n",
    "    \"Brussel\": \"Brussel-Centraal\",\n",
    "    \"Antwerpen\": \"Antwerpen-Centraal\",\n",
    "    \"Gent\": \"Gent-Sint-Pieters\"\n",
    "})"
   ]
  },
  {
   "cell_type": "markdown",
   "metadata": {},
   "source": [
    "* Create a new Series only containing the data of Brussels and Gent."
   ]
  },
  {
   "cell_type": "code",
   "execution_count": 17,
   "metadata": {},
   "outputs": [],
   "source": [
    "# Your code\n",
    "brussel_gent_delay = train_delay[[\"Brussel-Centraal\", \"Gent-Sint-Pieters\"]]"
   ]
  },
  {
   "cell_type": "markdown",
   "metadata": {},
   "source": [
    "### Train delay part 2"
   ]
  },
  {
   "cell_type": "markdown",
   "metadata": {},
   "source": [
    "* Display the average delay time of Antwerpen."
   ]
  },
  {
   "cell_type": "code",
   "execution_count": 18,
   "metadata": {},
   "outputs": [
    {
     "name": "stdout",
     "output_type": "stream",
     "text": [
      "Average delay for Antwerpen-Centraal: 5.45\n"
     ]
    }
   ],
   "source": [
    "\n",
    "# Your code\n",
    "print(\"Average delay for Antwerpen-Centraal:\", train_delay[\"Antwerpen-Centraal\"])"
   ]
  },
  {
   "cell_type": "markdown",
   "metadata": {},
   "source": [
    "Rumors say that train company *Chuck Chuck* only labels a train as delayed when they arrive at least 6 minutes late. Filter the series to only show the stations with an average delay of at least 6 minutes. Save the resulting Series in a new variable."
   ]
  },
  {
   "cell_type": "code",
   "execution_count": 19,
   "metadata": {},
   "outputs": [
    {
     "name": "stdout",
     "output_type": "stream",
     "text": [
      "Stations with delay >= 6 minutes:\n",
      "Brussel-Centraal    6.34\n",
      "Hasselt             6.08\n",
      "dtype: float64\n"
     ]
    }
   ],
   "source": [
    "delayed_stations = train_delay[train_delay >= 6]\n",
    "print(\"Stations with delay >= 6 minutes:\")\n",
    "print(delayed_stations)"
   ]
  },
  {
   "cell_type": "markdown",
   "metadata": {},
   "source": [
    "Oops, there was a wrong data entry in the data set. The average train delay in Brussel-Centraal is not 6.34 min but 8.34 min. Change the data of our Series train_delay."
   ]
  },
  {
   "cell_type": "code",
   "execution_count": 20,
   "metadata": {},
   "outputs": [],
   "source": [
    "train_delay[\"Brussel-Centraal\"] = 8.34"
   ]
  },
  {
   "cell_type": "markdown",
   "metadata": {},
   "source": [
    "Display following data using the appropriate attribute.\n",
    "* The indices of the Series\n",
    "* The values of the Series\n",
    "* How many values the Series contains\n",
    "* The datatype of the elements of the Series"
   ]
  },
  {
   "cell_type": "code",
   "execution_count": 24,
   "metadata": {},
   "outputs": [
    {
     "name": "stdout",
     "output_type": "stream",
     "text": [
      "Indices of the Series: ['Brussel-Centraal', 'Antwerpen-Centraal', 'Brugge', 'Gent-Sint-Pieters', 'Hasselt']\n",
      "Values of the Series: [8.34, 5.45, 4.12, 2.45, 6.08]\n",
      "Number of values in the Series: 5\n",
      "Datatype of the Series elements: float64\n"
     ]
    }
   ],
   "source": [
    "print(\"Indices of the Series:\", train_delay.index.tolist())\n",
    "print(\"Values of the Series:\", train_delay.values.tolist())\n",
    "print(\"Number of values in the Series:\", len(train_delay))\n",
    "print(\"Datatype of the Series elements:\", train_delay.dtype)"
   ]
  },
  {
   "cell_type": "markdown",
   "metadata": {},
   "source": [
    "## 2. Zoo animals"
   ]
  },
  {
   "cell_type": "markdown",
   "metadata": {},
   "source": [
    "`Animal_counts` is a dictionary containing the amount of animals of a certain type are living in the local zoo. \n"
   ]
  },
  {
   "cell_type": "code",
   "execution_count": null,
   "metadata": {},
   "outputs": [],
   "source": [
    "animal_counts = {\n",
    "    \"Lion\": 5,\n",
    "    \"Elephant\": 3,\n",
    "    \"Giraffe\": 7,\n",
    "    \"Zebra\": 12,\n",
    "    \"Kangaroo\": 4,\n",
    "    \"Penguin\": 15,\n",
    "    \"Panda\": 2,\n",
    "    \"Tiger\": 6,\n",
    "    \"Flamingo\": 8,\n",
    "    \"Crocodile\": 3\n",
    "}"
   ]
  },
  {
   "cell_type": "markdown",
   "metadata": {},
   "source": [
    "**Basic Series operations**\n",
    "* Create a Series `zoo_animals` using this dictionary\n",
    "* Show how many Giraffes and Tigers there are.\n",
    "* Print the total number of animals in the zoo.\n",
    "* Print the list of animal species.\n",
    "* Print the list of animal counts."
   ]
  },
  {
   "cell_type": "code",
   "execution_count": 40,
   "metadata": {},
   "outputs": [
    {
     "name": "stdout",
     "output_type": "stream",
     "text": [
      "There are  7 Giraffes and  6 Tigers\n",
      "The total amount of animals in a zoo is  65\n",
      "The species available are  ['Lion', 'Elephant', 'Giraffe', 'Zebra', 'Kangaroo', 'Penguin', 'Panda', 'Tiger', 'Flamingo', 'Crocodile']\n",
      "The list of available animals  are  [5, 3, 7, 12, 4, 15, 2, 6, 8, 3]\n"
     ]
    }
   ],
   "source": [
    "animal_counts = {\n",
    "    \"Lion\": 5,\n",
    "    \"Elephant\": 3,\n",
    "    \"Giraffe\": 7,\n",
    "    \"Zebra\": 12,\n",
    "    \"Kangaroo\": 4,\n",
    "    \"Penguin\": 15,\n",
    "    \"Panda\": 2,\n",
    "    \"Tiger\": 6,\n",
    "    \"Flamingo\": 8,\n",
    "    \"Crocodile\": 3\n",
    "}\n",
    "zoo_animals = pd.Series(animal_counts)\n",
    "print(\"There are \", zoo_animals[\"Giraffe\"],\"Giraffes and \", zoo_animals[\"Tiger\"], \"Tigers\")\n",
    "print(\"The total amount of animals in a zoo is \", zoo_animals.sum())\n",
    "print(\"The species available are \", zoo_animals.index.tolist())\n",
    "print(\"The list of available animals  are \", zoo_animals.values.tolist())\n",
    "\n"
   ]
  },
  {
   "cell_type": "markdown",
   "metadata": {},
   "source": [
    "**Filtering and data manipulation**\n",
    "* Display the animals who are at least with 5 of their kind.\n",
    "* Create a new Series only containing the data of the animals with a count of 3 or less.\n",
    "* Jippieeee! A panda was born! Increase the number of pandas with 1.\n",
    "* Joan the Crocodile has found a lover in the Berlin zoo and moves together with their 2 mates to Berlin. Remove the crocodile data frome the Series.\n",
    "* Oops, we forgot to count the Koala's. Add 3 koala's to the Series."
   ]
  },
  {
   "cell_type": "code",
   "execution_count": 58,
   "metadata": {},
   "outputs": [
    {
     "name": "stdout",
     "output_type": "stream",
     "text": [
      "There are more than or atleast 5 of these animals \n",
      "Lion         5\n",
      "Giraffe      7\n",
      "Zebra       12\n",
      "Penguin     15\n",
      "Panda       12\n",
      "Tiger        6\n",
      "Flamingo     8\n",
      "dtype: int64\n",
      "There are less than or atleast 3 of these animals \n",
      "Elephant    3\n",
      "dtype: int64\n",
      "Lion         5\n",
      "Elephant     3\n",
      "Giraffe      7\n",
      "Zebra       12\n",
      "Kangaroo     4\n",
      "Penguin     15\n",
      "Panda       13\n",
      "Tiger        6\n",
      "Flamingo     8\n",
      "Koala        3\n",
      "dtype: int64\n"
     ]
    }
   ],
   "source": [
    "same_animals = zoo_animals[zoo_animals >= 5]\n",
    "print(\"There are more than or atleast 5 of these animals \")\n",
    "print(same_animals)\n",
    "\n",
    "animals_three_orless = zoo_animals[zoo_animals <= 3]\n",
    "print(\"There are less than or atleast 3 of these animals \")\n",
    "print(animals_three_orless)\n",
    "\n",
    "zoo_animals[\"Panda\"] += 1\n",
    "\n",
    "zoo_animals[\"Koala\"] = 3\n",
    "print(zoo_animals)\n",
    "\n"
   ]
  }
 ],
 "metadata": {
  "kernelspec": {
   "display_name": "Python 3",
   "language": "python",
   "name": "python3"
  },
  "language_info": {
   "codemirror_mode": {
    "name": "ipython",
    "version": 3
   },
   "file_extension": ".py",
   "mimetype": "text/x-python",
   "name": "python",
   "nbconvert_exporter": "python",
   "pygments_lexer": "ipython3",
   "version": "3.12.7"
  }
 },
 "nbformat": 4,
 "nbformat_minor": 2
}
